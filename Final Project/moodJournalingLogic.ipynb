{
 "cells": [
  {
   "cell_type": "code",
   "execution_count": 18,
   "id": "c06ca7e8-1835-4f83-b949-8b5047bb1d0a",
   "metadata": {},
   "outputs": [],
   "source": [
    "from PyQt5.QtWidgets import *\n",
    "from PyQt5.QtGui import *\n",
    "from PyQt5 import QtWidgets\n",
    "from PyQt5.QtCore import *\n",
    "from PyQt5 import QtCore\n",
    "from PyQt5.QtWidgets import QMainWindow\n",
    "from PyQt5.QtWidgets import QApplication\n",
    "import sys\n",
    "from os import path\n",
    "from PyQt5.uic import loadUiType\n",
    "import requests\n",
    "from datetime import datetime"
   ]
  },
  {
   "cell_type": "code",
   "execution_count": 19,
   "id": "54b557fd-663d-4fe4-b529-61eb992622b4",
   "metadata": {},
   "outputs": [],
   "source": [
    "# Load the UI file\n",
    "FORM_CLASS, _ = loadUiType(\"moodJournaling.ui\")\n",
    "\n",
    "API_URL = \"http://localhost:8080/journals/\""
   ]
  },
  {
   "cell_type": "code",
   "execution_count": 20,
   "id": "e5f7ff22",
   "metadata": {},
   "outputs": [],
   "source": [
    "class Main(QMainWindow, FORM_CLASS):\n",
    "    def __init__(self, parent=None):\n",
    "        super(Main, self).__init__(parent)\n",
    "        QMainWindow.__init__(self)\n",
    "        self.setupUi(self)\n",
    "        self.Handle_Buttons()\n",
    "        \n",
    "        # Initialize UI elements (add these if they're not auto-created by loadUiType)\n",
    "        # These lines are typically not needed if your .ui file properly defines the elements\n",
    "        # self.moodinput = self.findChild(QLineEdit, \"moodinput\")\n",
    "        # self.journalinput = self.findChild(QTextEdit, \"journalinput\")\n",
    "        # self.logBtn = self.findChild(QPushButton, \"logBtn\")\n",
    "        \n",
    "    def Handle_Buttons(self):\n",
    "        # Connect the button click - no need to specify QPushButton in imports\n",
    "        self.logBtn.clicked.connect(self.log_entry)\n",
    "        \n",
    "    def log_entry(self):\n",
    "        # Get values from the correct widget names\n",
    "        mood = self.moodinput.text()  # Using text() for QLineEdit\n",
    "        entry = self.journalinput.toPlainText()  # Using toPlainText() for QTextEdit\n",
    "        date = datetime.now().strftime(\"%Y-%m-%d %H:%M:%S\")\n",
    "        \n",
    "        if not entry or not mood:\n",
    "            QtWidgets.QMessageBox.warning(self, \"Warning\", \"Please enter both mood and journal entry!\")\n",
    "            return\n",
    "            \n",
    "        try:\n",
    "            journal_data = {\n",
    "                \"mood\": mood,\n",
    "                \"entry\": entry,\n",
    "                \"date\": date\n",
    "            }\n",
    "            \n",
    "            response = requests.post(API_URL, json=journal_data)\n",
    "            \n",
    "            if response.status_code == 200:\n",
    "                QtWidgets.QMessageBox.information(self, \"Success\", \"Journal entry saved successfully!\")\n",
    "                self.journalinput.clear()\n",
    "                self.moodinput.clear()\n",
    "            else:\n",
    "                QtWidgets.QMessageBox.critical(self, \"Error\", \n",
    "                    f\"Failed to save entry. Status: {response.status_code}\\n{response.text}\")\n",
    "                \n",
    "        except Exception as e:\n",
    "            QtWidgets.QMessageBox.critical(self, \"Error\", f\"An error occurred: {str(e)}\")"
   ]
  },
  {
   "cell_type": "code",
   "execution_count": 21,
   "id": "b8345ace-16dd-4f3b-a4db-dccab2eb6100",
   "metadata": {},
   "outputs": [
    {
     "ename": "SystemExit",
     "evalue": "0",
     "output_type": "error",
     "traceback": [
      "An exception has occurred, use %tb to see the full traceback.\n",
      "\u001b[1;31mSystemExit\u001b[0m\u001b[1;31m:\u001b[0m 0\n"
     ]
    }
   ],
   "source": [
    "def main():\n",
    "    app = QApplication(sys.argv)\n",
    "    window = Main()\n",
    "    window.show()\n",
    "    sys.exit(app.exec_())\n",
    "\n",
    "if __name__ == '__main__':\n",
    "    main()"
   ]
  }
 ],
 "metadata": {
  "kernelspec": {
   "display_name": "base",
   "language": "python",
   "name": "python3"
  },
  "language_info": {
   "codemirror_mode": {
    "name": "ipython",
    "version": 3
   },
   "file_extension": ".py",
   "mimetype": "text/x-python",
   "name": "python",
   "nbconvert_exporter": "python",
   "pygments_lexer": "ipython3",
   "version": "3.12.7"
  }
 },
 "nbformat": 4,
 "nbformat_minor": 5
}
